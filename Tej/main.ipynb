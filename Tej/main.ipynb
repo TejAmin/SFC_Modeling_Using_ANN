{
 "cells": [
  {
   "cell_type": "code",
   "execution_count": null,
   "id": "0de4725f",
   "metadata": {},
   "outputs": [
    {
     "name": "stdout",
     "output_type": "stream",
     "text": [
      "          c        T_PM       d50       d90       d10        T_TM     mf_PM  \\\n",
      "0  0.176778  318.716784  0.000293  0.000355  0.000279  318.577217  0.000665   \n",
      "1  0.176777  318.716784  0.000331  0.000400  0.000256  318.577217  0.000665   \n",
      "2  0.176776  318.716784  0.000314  0.000357  0.000188  318.577217  0.000665   \n",
      "3  0.176775  318.716784  0.000260  0.000304  0.000248  318.577217  0.000665   \n",
      "4  0.176778  318.716784  0.000333  0.000372  0.000315  318.577217  0.000665   \n",
      "\n",
      "     mf_TM           Q_g  w_crystal     c_in     T_PM_in     T_TM_in  \\\n",
      "0  0.01628  6.437788e-07   0.003225  0.17695  323.120637  323.120637   \n",
      "1  0.01628  6.437788e-07   0.003225  0.17695  323.120637  323.120637   \n",
      "2  0.01628  6.437788e-07   0.003225  0.17695  323.120637  323.120637   \n",
      "3  0.01628  6.437788e-07   0.003225  0.17695  323.120637  323.120637   \n",
      "4  0.01628  6.437788e-07   0.003225  0.17695  323.120637  323.120637   \n",
      "\n",
      "       source  \n",
      "0  file_14894  \n",
      "1  file_14894  \n",
      "2  file_14894  \n",
      "3  file_14894  \n",
      "4  file_14894  \n",
      "This script loads all text files in a folder and prints the first few rows of the combined DataFrame.\n",
      "You can modify the data_dir variable to point to your own folder containing text files.\n",
      "Make sure to adjust the separator in load_txt_folder if your files use a different   delimiter.\n",
      "For example, use sep='\\t' for tab-separated values or sep='\\s+' for whitespace-separated values.\n",
      "The output will show the first few rows of the combined DataFrame.\n"
     ]
    }
   ],
   "source": [
    "from utils import load_txt_folder\n",
    "\n",
    "\n",
    "def main() -> None:\n",
    "    data_dir = r\"C:\\Users\\shami\\OneDrive\\Desktop\\Studies\\MLME\\Project\\MLME-ANN\\Data\"# change directory based on your laptop\n",
    "    df_all = load_txt_folder(data_dir, sep=\"\\t\")   # or sep=r\"\\s+\" for whitespace\n",
    "    print(df_all.head())\n",
    "\n",
    "\n",
    "if __name__ == \"__main__\":\n",
    "    main()\n",
    "    print(\"This script loads all text files in a folder and prints the first few rows of the combined DataFrame.\")\n",
    "    print(\"You can modify the data_dir variable to point to your own folder containing text files.\")\n",
    "    print(\"Make sure to adjust the separator in load_txt_folder if your files use a different   delimiter.\")\n",
    "    print(\"For example, use sep='\\\\t' for tab-separated values or sep='\\\\s+' for whitespace-separated values.\")\n",
    "    print(\"The output will show the first few rows of the combined DataFrame.\")     "
   ]
  }
 ],
 "metadata": {
  "kernelspec": {
   "display_name": "PAS",
   "language": "python",
   "name": "python3"
  },
  "language_info": {
   "codemirror_mode": {
    "name": "ipython",
    "version": 3
   },
   "file_extension": ".py",
   "mimetype": "text/x-python",
   "name": "python",
   "nbconvert_exporter": "python",
   "pygments_lexer": "ipython3",
   "version": "3.9.15"
  }
 },
 "nbformat": 4,
 "nbformat_minor": 5
}
